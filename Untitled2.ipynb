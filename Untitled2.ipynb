{
  "nbformat": 4,
  "nbformat_minor": 0,
  "metadata": {
    "colab": {
      "name": "Untitled2.ipynb",
      "provenance": [],
      "authorship_tag": "ABX9TyNvFP9A8nET+ZQAjd0YDC3l",
      "include_colab_link": true
    },
    "kernelspec": {
      "name": "python3",
      "display_name": "Python 3"
    },
    "language_info": {
      "name": "python"
    }
  },
  "cells": [
    {
      "cell_type": "markdown",
      "metadata": {
        "id": "view-in-github",
        "colab_type": "text"
      },
      "source": [
        "<a href=\"https://colab.research.google.com/github/keerthim07/lang-python/blob/main/Untitled2.ipynb\" target=\"_parent\"><img src=\"https://colab.research.google.com/assets/colab-badge.svg\" alt=\"Open In Colab\"/></a>"
      ]
    },
    {
      "cell_type": "code",
      "metadata": {
        "colab": {
          "base_uri": "https://localhost:8080/"
        },
        "id": "SNnKHEh5XXnk",
        "outputId": "c526265d-68dd-4c42-c563-0957c2f5d477"
      },
      "source": [
        "print('hello')\n",
        "#print hello"
      ],
      "execution_count": null,
      "outputs": [
        {
          "output_type": "stream",
          "text": [
            "hello\n"
          ],
          "name": "stdout"
        }
      ]
    },
    {
      "cell_type": "code",
      "metadata": {
        "colab": {
          "base_uri": "https://localhost:8080/"
        },
        "id": "iftRBTigcCbY",
        "outputId": "e314841e-0411-4dc3-aab1-022381135179"
      },
      "source": [
        "x=5\n",
        "if(x<10):\n",
        "  print(\"small\")\n",
        "  print(\"smaller\")\n",
        "if(x>20):\n",
        "  print(\"greater\")\n",
        "print(\"finished\")"
      ],
      "execution_count": null,
      "outputs": [
        {
          "output_type": "stream",
          "text": [
            "small\n",
            "smaller\n",
            "finished\n"
          ],
          "name": "stdout"
        }
      ]
    },
    {
      "cell_type": "code",
      "metadata": {
        "colab": {
          "base_uri": "https://localhost:8080/"
        },
        "id": "SSRgY-yWdWCq",
        "outputId": "5324a184-83cb-49ad-c478-b99a3e24cc50"
      },
      "source": [
        "x=(\"enter first number=\")\n",
        "y=(\"enter second number=\")\n",
        "if(x>y):\n",
        "  print(\"is greater\",x)\n",
        "else:\n",
        "  print(\"is greater\",y)"
      ],
      "execution_count": null,
      "outputs": [
        {
          "output_type": "stream",
          "text": [
            "is greater enter second number=\n"
          ],
          "name": "stdout"
        }
      ]
    },
    {
      "cell_type": "code",
      "metadata": {
        "colab": {
          "base_uri": "https://localhost:8080/"
        },
        "id": "u1Ac0TM8evM5",
        "outputId": "a0f45803-c47b-4b08-c957-018bf42a7e87"
      },
      "source": [
        "x=(\"enter first number=\")\n",
        "y=(\"enter second number=\")\n",
        "if(x>y):\n",
        "  print(\"is greater\",x)\n",
        "else:\n",
        "  print(\"is greater\",y)"
      ],
      "execution_count": null,
      "outputs": [
        {
          "output_type": "stream",
          "text": [
            "is greater enter second number=\n"
          ],
          "name": "stdout"
        }
      ]
    },
    {
      "cell_type": "code",
      "metadata": {
        "colab": {
          "base_uri": "https://localhost:8080/"
        },
        "id": "NLLeq4zafMAR",
        "outputId": "7c8430f4-acd3-4fd0-b9a6-66c128f373e5"
      },
      "source": [
        "x=5\n",
        "if x==5:\n",
        "  print('equal to 5')\n",
        "if x>4:\n",
        "  print('greater than 4')\n",
        "if x>=5:\n",
        "  print('greater than or equal to 5')\n",
        "if x<=5:\n",
        "  print('less than or equal to 5')\n",
        "if x!=6:\n",
        "  print('not equal to 6')"
      ],
      "execution_count": null,
      "outputs": [
        {
          "output_type": "stream",
          "text": [
            "equal to 5\n",
            "greater than 4\n",
            "greater than or equal to 5\n",
            "less than or equal to 5\n",
            "not equal to 6\n"
          ],
          "name": "stdout"
        }
      ]
    },
    {
      "cell_type": "code",
      "metadata": {
        "colab": {
          "base_uri": "https://localhost:8080/"
        },
        "id": "qjL-WWnShR2z",
        "outputId": "cc199ae0-81bd-4a12-b753-97cf761c2354"
      },
      "source": [
        "x=5\n",
        "if x==5:\n",
        "  print('equal to 5')\n",
        "print('completed')\n",
        "for i in range(5):\n",
        "  print(i)\n",
        "  if i>2:\n",
        "    print('bigger than 2')\n",
        "  print('done with i',i)\n",
        "print(\"all done\")"
      ],
      "execution_count": null,
      "outputs": [
        {
          "output_type": "stream",
          "text": [
            "equal to 5\n",
            "completed\n",
            "0\n",
            "done with i 0\n",
            "1\n",
            "done with i 1\n",
            "2\n",
            "done with i 2\n",
            "3\n",
            "bigger than 2\n",
            "done with i 3\n",
            "4\n",
            "bigger than 2\n",
            "done with i 4\n",
            "all done\n"
          ],
          "name": "stdout"
        }
      ]
    },
    {
      "cell_type": "code",
      "metadata": {
        "id": "4F6ra5ZWjhL-"
      },
      "source": [
        ""
      ],
      "execution_count": null,
      "outputs": []
    }
  ]
}
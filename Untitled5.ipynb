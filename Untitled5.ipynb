{
  "nbformat": 4,
  "nbformat_minor": 0,
  "metadata": {
    "colab": {
      "name": "Untitled5.ipynb",
      "provenance": [],
      "authorship_tag": "ABX9TyN43oGxksylIf0RQF+XWOlR",
      "include_colab_link": true
    },
    "kernelspec": {
      "display_name": "Python 3",
      "name": "python3"
    },
    "language_info": {
      "name": "python"
    }
  },
  "cells": [
    {
      "cell_type": "markdown",
      "metadata": {
        "id": "view-in-github",
        "colab_type": "text"
      },
      "source": [
        "<a href=\"https://colab.research.google.com/github/keerthim07/lang-python/blob/main/Untitled5.ipynb\" target=\"_parent\"><img src=\"https://colab.research.google.com/assets/colab-badge.svg\" alt=\"Open In Colab\"/></a>"
      ]
    },
    {
      "cell_type": "code",
      "metadata": {
        "colab": {
          "base_uri": "https://localhost:8080/"
        },
        "id": "BPnAsSW1jwTG",
        "outputId": "7e29b342-06a1-497d-ce3b-d20803c4c740"
      },
      "source": [
        "while True: #breakout of a loop\n",
        "  line=input('>')\n",
        "  if line[0]=='#':\n",
        "    continue\n",
        "  if line=='done':\n",
        "    break\n",
        "  print(line)\n",
        "print('done')"
      ],
      "execution_count": null,
      "outputs": [
        {
          "output_type": "stream",
          "text": [
            ">done\n",
            "done\n"
          ],
          "name": "stdout"
        }
      ]
    },
    {
      "cell_type": "code",
      "metadata": {
        "id": "hdpEx_ZAmhHB",
        "colab": {
          "base_uri": "https://localhost:8080/"
        },
        "outputId": "6d5cbab2-fbf0-4a21-d36b-6fbdefe62c6b"
      },
      "source": [
        "while True:\n",
        "  line=input('>')\n",
        "  if line[0]=='#':\n",
        "    print('before continue')\n",
        "    continue\n",
        "    print('after continue')\n",
        "  if line=='done':\n",
        "    print('before break')\n",
        "    break\n",
        "    print('after break')\n",
        "  print(line)\n",
        "print('done')"
      ],
      "execution_count": 1,
      "outputs": [
        {
          "output_type": "stream",
          "text": [
            ">#\n",
            "before continue\n",
            ">the programmer \n",
            "the programmer \n",
            ">the programmer work was done\n",
            "the programmer work was done\n",
            ">done\n",
            "before break\n",
            "done\n"
          ],
          "name": "stdout"
        }
      ]
    },
    {
      "cell_type": "code",
      "metadata": {
        "colab": {
          "base_uri": "https://localhost:8080/"
        },
        "id": "PrI2ae55OxXZ",
        "outputId": "1ed866e1-393c-4afb-8c63-c02b99be2a4e"
      },
      "source": [
        "for i in [5,4,3,2,1]:\n",
        "  print(i)\n",
        "print('finished')"
      ],
      "execution_count": 3,
      "outputs": [
        {
          "output_type": "stream",
          "text": [
            "5\n",
            "4\n",
            "3\n",
            "2\n",
            "1\n",
            "finished\n"
          ],
          "name": "stdout"
        }
      ]
    },
    {
      "cell_type": "code",
      "metadata": {
        "colab": {
          "base_uri": "https://localhost:8080/"
        },
        "id": "o0ao7H4CPn3O",
        "outputId": "09b2b32e-e227-4b16-f829-69be11567919"
      },
      "source": [
        "for i in range(5):\n",
        "  print(i)\n",
        "print('finish')"
      ],
      "execution_count": 4,
      "outputs": [
        {
          "output_type": "stream",
          "text": [
            "0\n",
            "1\n",
            "2\n",
            "3\n",
            "4\n",
            "finish\n"
          ],
          "name": "stdout"
        }
      ]
    },
    {
      "cell_type": "code",
      "metadata": {
        "colab": {
          "base_uri": "https://localhost:8080/"
        },
        "id": "BWlM3rsfP28g",
        "outputId": "ea710dfd-c442-4a2c-eb90-0150a5be6cee"
      },
      "source": [
        "print('before')\n",
        "for things in[9,21,3,45,7,88]:\n",
        "  print(things)\n",
        "print('after')"
      ],
      "execution_count": 5,
      "outputs": [
        {
          "output_type": "stream",
          "text": [
            "before\n",
            "9\n",
            "21\n",
            "3\n",
            "45\n",
            "7\n",
            "88\n",
            "after\n"
          ],
          "name": "stdout"
        }
      ]
    },
    {
      "cell_type": "code",
      "metadata": {
        "colab": {
          "base_uri": "https://localhost:8080/"
        },
        "id": "I6Oe1VDJQl6h",
        "outputId": "d20e955b-eab4-4ae7-ac17-d38dddb82176"
      },
      "source": [
        "#finding the largest value\n",
        "largest=-1\n",
        "print('before',largest)\n",
        "for num in[9,17,6,73,21]:\n",
        "  if num>largest:\n",
        "    largest=num\n",
        "  print(num)\n",
        "print('after',largest)"
      ],
      "execution_count": 7,
      "outputs": [
        {
          "output_type": "stream",
          "text": [
            "before -1\n",
            "9\n",
            "17\n",
            "6\n",
            "73\n",
            "21\n",
            "after 73\n"
          ],
          "name": "stdout"
        }
      ]
    },
    {
      "cell_type": "code",
      "metadata": {
        "colab": {
          "base_uri": "https://localhost:8080/"
        },
        "id": "kjIDYiGtSP84",
        "outputId": "6ac6f684-68a5-4f99-fca4-4e05618f0a5d"
      },
      "source": [
        "#counting in a loop\n",
        "count=0\n",
        "print('before',count)\n",
        "for num in[4,88,34,21,43]:\n",
        "  count+=1\n",
        "  print(count,num)\n",
        "print('after',count)\n"
      ],
      "execution_count": 10,
      "outputs": [
        {
          "output_type": "stream",
          "text": [
            "before 0\n",
            "1 4\n",
            "2 88\n",
            "3 34\n",
            "4 21\n",
            "5 43\n",
            "after 5\n"
          ],
          "name": "stdout"
        }
      ]
    },
    {
      "cell_type": "code",
      "metadata": {
        "colab": {
          "base_uri": "https://localhost:8080/"
        },
        "id": "AqRhgAoTVsGs",
        "outputId": "1806dee4-170d-45ec-9bfa-32b41e592661"
      },
      "source": [
        "#filtering in a loop\n",
        "print('before')\n",
        "for value in[9,41,12,3,74,15]:\n",
        "  if value>>2:\n",
        "    print('larger number',value)\n",
        "print('after')"
      ],
      "execution_count": 22,
      "outputs": [
        {
          "output_type": "stream",
          "text": [
            "before\n",
            "larger number 9\n",
            "larger number 41\n",
            "larger number 12\n",
            "larger number 74\n",
            "larger number 15\n",
            "after\n"
          ],
          "name": "stdout"
        }
      ]
    },
    {
      "cell_type": "code",
      "metadata": {
        "id": "5RK5sNMiXLpa"
      },
      "source": [
        ""
      ],
      "execution_count": null,
      "outputs": []
    }
  ]
}
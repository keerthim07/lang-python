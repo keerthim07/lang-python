{
  "nbformat": 4,
  "nbformat_minor": 0,
  "metadata": {
    "colab": {
      "name": "Untitled4.ipynb",
      "provenance": [],
      "authorship_tag": "ABX9TyOrV24gRYoDx6gxDA61fYD6",
      "include_colab_link": true
    },
    "kernelspec": {
      "name": "python3",
      "display_name": "Python 3"
    },
    "language_info": {
      "name": "python"
    }
  },
  "cells": [
    {
      "cell_type": "markdown",
      "metadata": {
        "id": "view-in-github",
        "colab_type": "text"
      },
      "source": [
        "<a href=\"https://colab.research.google.com/github/keerthim07/lang-python/blob/main/Untitled3.ipynb\" target=\"_parent\"><img src=\"https://colab.research.google.com/assets/colab-badge.svg\" alt=\"Open In Colab\"/></a>"
      ]
    },
    {
      "cell_type": "code",
      "metadata": {
        "colab": {
          "base_uri": "https://localhost:8080/"
        },
        "id": "Lb4e9aEVdcTA",
        "outputId": "6521cf29-0c9d-4703-f796-d44b5b5186ed"
      },
      "source": [
        "def mul(a,b):\n",
        "  multiply=a*b\n",
        "  return multiply\n",
        "print(mul(3,4))"
      ],
      "execution_count": null,
      "outputs": [
        {
          "output_type": "stream",
          "text": [
            "12\n"
          ],
          "name": "stdout"
        }
      ]
    },
    {
      "cell_type": "code",
      "metadata": {
        "colab": {
          "base_uri": "https://localhost:8080/"
        },
        "id": "uadyXp7zf3jR",
        "outputId": "40f23296-4194-4858-cab1-9fc9d999e8f7"
      },
      "source": [
        "n=5\n",
        "while n>0:\n",
        "  print(n)\n",
        "  n=n-1 #iterative vaeiable n\n",
        "print('finished')\n",
        "print(n)"
      ],
      "execution_count": null,
      "outputs": [
        {
          "output_type": "stream",
          "text": [
            "5\n",
            "4\n",
            "3\n",
            "2\n",
            "1\n",
            "finished\n",
            "0\n"
          ],
          "name": "stdout"
        }
      ]
    }
  ]
}
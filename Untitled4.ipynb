{
  "nbformat": 4,
  "nbformat_minor": 0,
  "metadata": {
    "colab": {
      "name": "Untitled6.ipynb",
      "provenance": [],
      "authorship_tag": "ABX9TyPROmVOOqRvL4nddI6j7JeZ",
      "include_colab_link": true
    },
    "kernelspec": {
      "name": "python3",
      "display_name": "Python 3"
    },
    "language_info": {
      "name": "python"
    }
  },
  "cells": [
    {
      "cell_type": "markdown",
      "metadata": {
        "id": "view-in-github",
        "colab_type": "text"
      },
      "source": [
        "<a href=\"https://colab.research.google.com/github/keerthim07/lang-python/blob/main/Untitled4.ipynb\" target=\"_parent\"><img src=\"https://colab.research.google.com/assets/colab-badge.svg\" alt=\"Open In Colab\"/></a>"
      ]
    },
    {
      "cell_type": "code",
      "metadata": {
        "colab": {
          "base_uri": "https://localhost:8080/"
        },
        "id": "rdbTEK3FnAF7",
        "outputId": "7010f1bb-f99d-4f48-e786-e49b1a1fc38e"
      },
      "source": [
        "#string comparison\n",
        "print(\"geek\"==\"geek\")\n",
        "print(\"geek\"<\"Geek\")"
      ],
      "execution_count": null,
      "outputs": [
        {
          "output_type": "stream",
          "text": [
            "True\n",
            "False\n"
          ],
          "name": "stdout"
        }
      ]
    },
    {
      "cell_type": "code",
      "metadata": {
        "colab": {
          "base_uri": "https://localhost:8080/"
        },
        "id": "Q29CTcBMr9qQ",
        "outputId": "e3ceae01-2ee6-4213-865d-e4733e16d8b2"
      },
      "source": [
        "great='hello'\n",
        "upper=great.upper()\n",
        "print(upper)"
      ],
      "execution_count": null,
      "outputs": [
        {
          "output_type": "stream",
          "text": [
            "HELLO\n"
          ],
          "name": "stdout"
        }
      ]
    },
    {
      "cell_type": "code",
      "metadata": {
        "colab": {
          "base_uri": "https://localhost:8080/"
        },
        "id": "3TLqjOcksj17",
        "outputId": "7771b143-3a65-437f-81b2-dba13c4ae71c"
      },
      "source": [
        "#searching a string using find()\n",
        "fruit='banana'\n",
        "pos=fruit.find('na')\n",
        "print(pos)"
      ],
      "execution_count": null,
      "outputs": [
        {
          "output_type": "stream",
          "text": [
            "2\n"
          ],
          "name": "stdout"
        }
      ]
    },
    {
      "cell_type": "code",
      "metadata": {
        "colab": {
          "base_uri": "https://localhost:8080/"
        },
        "id": "MSQmLNaLtn3Q",
        "outputId": "deafff44-b0b0-40fd-9564-ec138d581ec7"
      },
      "source": [
        "aa=fruit.find('z')\n",
        "print(aa)"
      ],
      "execution_count": null,
      "outputs": [
        {
          "output_type": "stream",
          "text": [
            "-1\n"
          ],
          "name": "stdout"
        }
      ]
    },
    {
      "cell_type": "code",
      "metadata": {
        "colab": {
          "base_uri": "https://localhost:8080/"
        },
        "id": "w-p6XZupt7Q-",
        "outputId": "cbad8c25-5f89-493a-b433-e1abef78359a"
      },
      "source": [
        "#search and replace\n",
        "great='hello bob'\n",
        "nstr=great.replace('bob','jana')\n",
        "print(nstr)"
      ],
      "execution_count": null,
      "outputs": [
        {
          "output_type": "stream",
          "text": [
            "hello jana\n"
          ],
          "name": "stdout"
        }
      ]
    },
    {
      "cell_type": "code",
      "metadata": {
        "colab": {
          "base_uri": "https://localhost:8080/"
        },
        "id": "cgyEwsZgvZDI",
        "outputId": "e6041cba-66e7-49ba-9a20-abb23c3629f0"
      },
      "source": [
        "#stripping white space\n",
        "first='     hello bob'\n",
        "strip=first.strip()\n",
        "print(strip)"
      ],
      "execution_count": null,
      "outputs": [
        {
          "output_type": "stream",
          "text": [
            "hello bob\n"
          ],
          "name": "stdout"
        }
      ]
    },
    {
      "cell_type": "code",
      "metadata": {
        "colab": {
          "base_uri": "https://localhost:8080/"
        },
        "id": "NanHbU6ov80T",
        "outputId": "61c35a5f-49d0-4fa3-94fa-9e1c1edfd6da"
      },
      "source": [
        "first='     hello bob'\n",
        "print(first)\n",
        "strip=first.strip()\n",
        "print(strip)\n",
        "right=first.rstrip()\n",
        "print(right)"
      ],
      "execution_count": null,
      "outputs": [
        {
          "output_type": "stream",
          "text": [
            "     hello bob\n",
            "hello bob\n",
            "     hello bob\n"
          ],
          "name": "stdout"
        }
      ]
    },
    {
      "cell_type": "code",
      "metadata": {
        "colab": {
          "base_uri": "https://localhost:8080/"
        },
        "id": "9vC75VajwWql",
        "outputId": "5dbb5e6e-19bf-4658-a978-7109b33b8785"
      },
      "source": [
        "#prefixes\n",
        "line='please have a nice day'\n",
        "line.startswith('please')"
      ],
      "execution_count": null,
      "outputs": [
        {
          "output_type": "execute_result",
          "data": {
            "text/plain": [
              "True"
            ]
          },
          "metadata": {
            "tags": []
          },
          "execution_count": 11
        }
      ]
    },
    {
      "cell_type": "code",
      "metadata": {
        "colab": {
          "base_uri": "https://localhost:8080/"
        },
        "id": "arnyCK4fxiEQ",
        "outputId": "a2c44afa-2794-4f50-a74c-32b370e5f096"
      },
      "source": [
        "#parsing and extraction\n",
        "data='alice@bob.com is a good girl'\n",
        "atpos=data.find('@')\n",
        "print(atpos)\n",
        "sspos=data.find('.')\n",
        "print(sspos)\n",
        "host=data[atpos+1:sspos]\n",
        "print(host)"
      ],
      "execution_count": null,
      "outputs": [
        {
          "output_type": "stream",
          "text": [
            "5\n",
            "9\n",
            "bob\n"
          ],
          "name": "stdout"
        }
      ]
    }
  ]
}